{
 "cells": [
  {
   "cell_type": "markdown",
   "id": "0ae81149-a5c5-4d84-9b12-371f462f6183",
   "metadata": {},
   "source": [
    "## CKIP Test\n",
    "### Reference\n",
    "- [Doc](https://github.com/ckiplab/ckiptagger/wiki/Chinese-README)\n",
    "- [Dictionary Generation](https://medium.com/%E4%B8%AD%E6%96%87-nlp-%E8%99%95%E7%90%86/%E7%B9%81%E4%B8%AD%E6%96%B7%E8%A9%9E-ckiptagger%E8%88%87%E7%B5%90%E5%B7%B4-jieba-11295c89233)"
   ]
  },
  {
   "cell_type": "code",
   "execution_count": 1,
   "id": "b5fa56c0-a616-4315-833f-50ba2a94f9b6",
   "metadata": {},
   "outputs": [],
   "source": [
    "from ckiptagger import data_utils, construct_dictionary, WS, POS, NER"
   ]
  },
  {
   "cell_type": "code",
   "execution_count": 2,
   "id": "8ca51d81-fe40-4e6c-92f1-857e36321d47",
   "metadata": {},
   "outputs": [
    {
     "name": "stderr",
     "output_type": "stream",
     "text": [
      "C:\\Users\\echon\\anaconda3\\envs\\ws-test\\lib\\site-packages\\ckiptagger\\model_ws.py:106: UserWarning: `tf.nn.rnn_cell.LSTMCell` is deprecated and will be removed in a future version. This class is equivalent as `tf.keras.layers.LSTMCell`, and will be replaced by that in Tensorflow 2.0.\n",
      "  cell = tf.compat.v1.nn.rnn_cell.LSTMCell(hidden_d, name=name)\n",
      "C:\\Users\\echon\\anaconda3\\envs\\ws-test\\lib\\site-packages\\keras\\layers\\legacy_rnn\\rnn_cell_impl.py:984: UserWarning: `layer.add_variable` is deprecated and will be removed in a future version. Please use `layer.add_weight` method instead.\n",
      "  self._kernel = self.add_variable(\n",
      "C:\\Users\\echon\\anaconda3\\envs\\ws-test\\lib\\site-packages\\keras\\layers\\legacy_rnn\\rnn_cell_impl.py:993: UserWarning: `layer.add_variable` is deprecated and will be removed in a future version. Please use `layer.add_weight` method instead.\n",
      "  self._bias = self.add_variable(\n",
      "C:\\Users\\echon\\anaconda3\\envs\\ws-test\\lib\\site-packages\\ckiptagger\\model_pos.py:56: UserWarning: `tf.nn.rnn_cell.LSTMCell` is deprecated and will be removed in a future version. This class is equivalent as `tf.keras.layers.LSTMCell`, and will be replaced by that in Tensorflow 2.0.\n",
      "  cell = tf.compat.v1.nn.rnn_cell.LSTMCell(hidden_d, name=name)\n",
      "C:\\Users\\echon\\anaconda3\\envs\\ws-test\\lib\\site-packages\\ckiptagger\\model_ner.py:57: UserWarning: `tf.nn.rnn_cell.LSTMCell` is deprecated and will be removed in a future version. This class is equivalent as `tf.keras.layers.LSTMCell`, and will be replaced by that in Tensorflow 2.0.\n",
      "  cell = tf.compat.v1.nn.rnn_cell.LSTMCell(hidden_d, name=name)\n"
     ]
    }
   ],
   "source": [
    "ws = WS(\"./data\")\n",
    "pos = POS(\"./data\")\n",
    "ner = NER(\"./data\")"
   ]
  },
  {
   "cell_type": "code",
   "execution_count": 3,
   "id": "ca5d6c69-48f8-4160-af81-c1793e912bf3",
   "metadata": {},
   "outputs": [],
   "source": [
    "sentence_list = [\n",
    "    \"傅達仁今將執行安樂死，卻突然爆出自己20年前遭緯來體育台封殺，他不懂自己哪裡得罪到電視台。\",\n",
    "    \"美國參議院針對今天總統布什所提名的勞工部長趙小蘭展開認可聽證會，預料她將會很順利通過參議院支持，成為該國有史以來第一位的華裔女性內閣成員。\",\n",
    "    \"\",\n",
    "    \"土地公有政策?？還是土地婆有政策。.\",\n",
    "    \"… 你確定嗎… 不要再騙了……\",\n",
    "    \"最多容納59,000個人,或5.9萬人,再多就不行了.這是環評的結論.\",\n",
    "    \"科長說:1,坪數對人數為1:3。2,可以再增加。\",\n",
    "]\n",
    "\n",
    "word_sentence_list = ws(\n",
    "    sentence_list,\n",
    "    # sentence_segmentation = True, # To consider delimiters\n",
    "    # segment_delimiter_set = {\",\", \"。\", \":\", \"?\", \"!\", \";\"}), # This is the defualt set of delimiters\n",
    "    # recommend_dictionary = dictionary1, # words in this dictionary are encouraged\n",
    "    # coerce_dictionary = dictionary2, # words in this dictionary are forced\n",
    ")"
   ]
  },
  {
   "cell_type": "code",
   "execution_count": 4,
   "id": "83d0577d-e259-4a0b-ae30-a71e00db52ef",
   "metadata": {},
   "outputs": [],
   "source": [
    "pos_sentence_list = pos(word_sentence_list)\n",
    "\n",
    "entity_sentence_list = ner(word_sentence_list, pos_sentence_list)"
   ]
  },
  {
   "cell_type": "code",
   "execution_count": 9,
   "id": "2653633f-c2a4-4ee8-aebb-f928106f69b2",
   "metadata": {},
   "outputs": [
    {
     "data": {
      "text/plain": [
       "['傅達仁',\n",
       " '今',\n",
       " '將',\n",
       " '執行',\n",
       " '安樂死',\n",
       " '，',\n",
       " '卻',\n",
       " '突然',\n",
       " '爆出',\n",
       " '自己',\n",
       " '20',\n",
       " '年',\n",
       " '前',\n",
       " '遭',\n",
       " '緯來',\n",
       " '體育台',\n",
       " '封殺',\n",
       " '，',\n",
       " '他',\n",
       " '不',\n",
       " '懂',\n",
       " '自己',\n",
       " '哪裡',\n",
       " '得罪到',\n",
       " '電視台',\n",
       " '。']"
      ]
     },
     "execution_count": 9,
     "metadata": {},
     "output_type": "execute_result"
    }
   ],
   "source": [
    "word_sentence_list[0]"
   ]
  },
  {
   "cell_type": "code",
   "execution_count": 10,
   "id": "a19d0d9a-9423-4578-8a1d-3831d63d5173",
   "metadata": {},
   "outputs": [
    {
     "name": "stdout",
     "output_type": "stream",
     "text": [
      "[(2, {'公有': 2.0}), (3, {'土地公': 1.0, '土地婆': 1.0}), (5, {'緯來體育台': 1.0})]\n"
     ]
    }
   ],
   "source": [
    "word_to_weight = {\n",
    "    \"土地公\": 1,\n",
    "    \"土地婆\": 1,\n",
    "    \"公有\": 2,\n",
    "    \"\": 1,\n",
    "    \"來亂的\": \"啦\",\n",
    "    \"緯來體育台\": 1,\n",
    "}\n",
    "dictionary = construct_dictionary(word_to_weight)\n",
    "print(dictionary)"
   ]
  },
  {
   "cell_type": "code",
   "execution_count": 11,
   "id": "58015167-8a83-45a7-966f-eba4d7c2d92a",
   "metadata": {},
   "outputs": [],
   "source": [
    "word_sentence_list_v2 = ws(\n",
    "    sentence_list,\n",
    "    # sentence_segmentation = True, # To consider delimiters\n",
    "    # segment_delimiter_set = {\",\", \"。\", \":\", \"?\", \"!\", \";\"}), # This is the defualt set of delimiters\n",
    "    recommend_dictionary = dictionary, # words in this dictionary are encouraged\n",
    "    # coerce_dictionary = dictionary2, # words in this dictionary are forced\n",
    ")"
   ]
  },
  {
   "cell_type": "code",
   "execution_count": 15,
   "id": "acc1714b-5e6a-4a37-af45-b968cc302473",
   "metadata": {},
   "outputs": [
    {
     "data": {
      "text/plain": [
       "['土地公', '有', '政策', '?', '？', '還是', '土地婆', '有', '政策', '。', '.']"
      ]
     },
     "execution_count": 15,
     "metadata": {},
     "output_type": "execute_result"
    }
   ],
   "source": [
    "word_sentence_list_v2[3]"
   ]
  },
  {
   "cell_type": "code",
   "execution_count": 16,
   "id": "d5f1a60a-23cd-48e0-9af9-c549933e1a05",
   "metadata": {},
   "outputs": [
    {
     "data": {
      "text/plain": [
       "['土地公', '有', '政策', '?', '？', '還是', '土地', '婆', '有', '政策', '。', '.']"
      ]
     },
     "execution_count": 16,
     "metadata": {},
     "output_type": "execute_result"
    }
   ],
   "source": [
    "word_sentence_list[3]"
   ]
  },
  {
   "cell_type": "code",
   "execution_count": null,
   "id": "4a993c04-d4f4-4b3e-8c3a-9f08e78d2624",
   "metadata": {},
   "outputs": [],
   "source": []
  }
 ],
 "metadata": {
  "kernelspec": {
   "display_name": "Python 3 (ipykernel)",
   "language": "python",
   "name": "python3"
  },
  "language_info": {
   "codemirror_mode": {
    "name": "ipython",
    "version": 3
   },
   "file_extension": ".py",
   "mimetype": "text/x-python",
   "name": "python",
   "nbconvert_exporter": "python",
   "pygments_lexer": "ipython3",
   "version": "3.9.7"
  }
 },
 "nbformat": 4,
 "nbformat_minor": 5
}
