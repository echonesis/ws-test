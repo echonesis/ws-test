{
 "cells": [
  {
   "cell_type": "markdown",
   "id": "4e9d58a1-95dd-4746-b6aa-e0a1058ddef7",
   "metadata": {},
   "source": [
    "## JIEBA\n",
    "### Reference\n",
    "[Doc](https://github.com/APCLab/jieba-tw)\n",
    "[詞性](https://blog.csdn.net/enter89/article/details/80619805)"
   ]
  },
  {
   "cell_type": "code",
   "execution_count": 1,
   "id": "7f28b420-2fba-4b02-beb8-74c69cc8ada6",
   "metadata": {},
   "outputs": [],
   "source": [
    "import jieba"
   ]
  },
  {
   "cell_type": "code",
   "execution_count": null,
   "id": "1c2753af-7070-4018-82e5-beb17f9c82ae",
   "metadata": {},
   "outputs": [],
   "source": [
    "#如果您的電腦同時要使用兩個版本的jieba，請自訂cache檔名，避免兩個cache互相蓋住對方\n",
    "#jieba.dt.cache_file = 'jieba.cache.new'\n",
    "\n",
    "seg_list = jieba.cut(\"新竹的交通大學在新竹的大學路上\")\n",
    "print(\" / \".join(seg_list))\n",
    "# 新竹 / 的 / 交通 / 大學 / 在 / 新竹 / 的 / 大學路 / 上 /"
   ]
  },
  {
   "cell_type": "code",
   "execution_count": null,
   "id": "35d81b37-2a6a-43bb-9c1e-11235b6b2e42",
   "metadata": {},
   "outputs": [],
   "source": []
  },
  {
   "cell_type": "code",
   "execution_count": 2,
   "id": "7e750d63-b2af-4ce2-9b99-392378ce5132",
   "metadata": {},
   "outputs": [
    {
     "name": "stderr",
     "output_type": "stream",
     "text": [
      "Building prefix dict from the default dictionary ...\n",
      "Loading model from cache C:\\Users\\echon\\AppData\\Local\\Temp\\jieba.cache\n",
      "Loading model cost 0.338 seconds.\n",
      "Prefix dict has been built succesfully.\n"
     ]
    }
   ],
   "source": [
    "jieba.load_userdict(\"userdict.txt\")"
   ]
  },
  {
   "cell_type": "code",
   "execution_count": 3,
   "id": "fd5176f6-2f44-4dcc-97b4-39ddb4fae35d",
   "metadata": {},
   "outputs": [],
   "source": [
    "seg_list_v2 = jieba.cut(\"新竹的交通大學在新竹的大學路上\")"
   ]
  },
  {
   "cell_type": "code",
   "execution_count": 4,
   "id": "0ee6c0e4-5055-4a25-9e83-04110f9d5933",
   "metadata": {},
   "outputs": [
    {
     "name": "stdout",
     "output_type": "stream",
     "text": [
      "新竹的 / 交通 / 大學 / 在 / 新竹的 / 大學路 / 上\n"
     ]
    }
   ],
   "source": [
    "print(\" / \".join(seg_list_v2))"
   ]
  },
  {
   "cell_type": "code",
   "execution_count": null,
   "id": "46fe2bb2-7dce-499d-951d-01c90c60108b",
   "metadata": {},
   "outputs": [],
   "source": []
  }
 ],
 "metadata": {
  "kernelspec": {
   "display_name": "Python 3 (ipykernel)",
   "language": "python",
   "name": "python3"
  },
  "language_info": {
   "codemirror_mode": {
    "name": "ipython",
    "version": 3
   },
   "file_extension": ".py",
   "mimetype": "text/x-python",
   "name": "python",
   "nbconvert_exporter": "python",
   "pygments_lexer": "ipython3",
   "version": "3.9.7"
  }
 },
 "nbformat": 4,
 "nbformat_minor": 5
}
